{
 "cells": [
  {
   "cell_type": "markdown",
   "id": "57413c14-e0ae-48bf-8564-78b437ff023e",
   "metadata": {
    "jp-MarkdownHeadingCollapsed": true
   },
   "source": [
    "# Dataset Overview"
   ]
  },
  {
   "cell_type": "markdown",
   "id": "843d184b-defb-4177-b9a6-bb20081c1484",
   "metadata": {},
   "source": [
    "This dataset contains anonymized health records of 68,205 patients, covering variables such as age, gender, BMI, blood pressure, cholesterol levels, glucose levels, smoking status, alcohol consumption, physical activity, and the presence of cardiovascular disease.\n",
    "\n",
    "The objective is to understand the structure and quality of the data, identify potential issues such as missing values and outliers, and uncover patterns relevant to predicting cardiovascular health risks.\n"
   ]
  },
  {
   "cell_type": "code",
   "execution_count": 3,
   "id": "d8a7a378-e26b-4aa7-a265-6a09f52fff64",
   "metadata": {},
   "outputs": [],
   "source": [
    "import numpy as np\n",
    "import pandas as pd\n",
    "import matplotlib.pyplot as plt\n",
    "import seaborn as sns\n",
    "import plotly.express as px\n",
    "import plotly.graph_objects as go"
   ]
  },
  {
   "cell_type": "code",
   "execution_count": 4,
   "id": "e6746bf4-d3dd-43e1-8b80-d30077c4202e",
   "metadata": {},
   "outputs": [],
   "source": [
    "df=pd.read_csv(\"cardio_data_processed.csv\", delimiter='\\t')"
   ]
  },
  {
   "cell_type": "code",
   "execution_count": 5,
   "id": "1446372a-bbe7-4ee7-9cbd-5fc66a39a532",
   "metadata": {},
   "outputs": [],
   "source": [
    "df = df.iloc[:, 0].str.split(',', expand=True)\n",
    "df.columns = ['id', 'age', 'gender', 'height', 'weight', 'ap_hi', 'ap_lo', \n",
    "              'cholesterol', 'gluc', 'smoke', 'alco', 'active', 'cardio', \n",
    "              'age_years', 'bmi', 'bp_category', 'bp_category_encoded']\n"
   ]
  },
  {
   "cell_type": "code",
   "execution_count": 6,
   "id": "84ca4839-a41d-4135-9657-e4c3eecb994d",
   "metadata": {},
   "outputs": [
    {
     "name": "stdout",
     "output_type": "stream",
     "text": [
      "<class 'pandas.core.frame.DataFrame'>\n",
      "RangeIndex: 68205 entries, 0 to 68204\n",
      "Data columns (total 17 columns):\n",
      " #   Column               Non-Null Count  Dtype \n",
      "---  ------               --------------  ----- \n",
      " 0   id                   68205 non-null  object\n",
      " 1   age                  68205 non-null  object\n",
      " 2   gender               68205 non-null  object\n",
      " 3   height               68205 non-null  object\n",
      " 4   weight               68205 non-null  object\n",
      " 5   ap_hi                68205 non-null  object\n",
      " 6   ap_lo                68205 non-null  object\n",
      " 7   cholesterol          68205 non-null  object\n",
      " 8   gluc                 68205 non-null  object\n",
      " 9   smoke                68205 non-null  object\n",
      " 10  alco                 68205 non-null  object\n",
      " 11  active               68205 non-null  object\n",
      " 12  cardio               68205 non-null  object\n",
      " 13  age_years            68205 non-null  object\n",
      " 14  bmi                  68205 non-null  object\n",
      " 15  bp_category          68205 non-null  object\n",
      " 16  bp_category_encoded  68205 non-null  object\n",
      "dtypes: object(17)\n",
      "memory usage: 8.8+ MB\n"
     ]
    }
   ],
   "source": [
    "df.info()"
   ]
  },
  {
   "cell_type": "code",
   "execution_count": 7,
   "id": "740e751d-723b-4203-ae15-fadb8d736cbf",
   "metadata": {},
   "outputs": [
    {
     "data": {
      "text/plain": [
       "(68205, 17)"
      ]
     },
     "execution_count": 7,
     "metadata": {},
     "output_type": "execute_result"
    }
   ],
   "source": [
    "# number of rows and coulmns\n",
    "df.shape"
   ]
  },
  {
   "cell_type": "code",
   "execution_count": 8,
   "id": "a8096058-06f9-4932-bb0c-e669524d3bd6",
   "metadata": {},
   "outputs": [
    {
     "data": {
      "text/html": [
       "<div>\n",
       "<style scoped>\n",
       "    .dataframe tbody tr th:only-of-type {\n",
       "        vertical-align: middle;\n",
       "    }\n",
       "\n",
       "    .dataframe tbody tr th {\n",
       "        vertical-align: top;\n",
       "    }\n",
       "\n",
       "    .dataframe thead th {\n",
       "        text-align: right;\n",
       "    }\n",
       "</style>\n",
       "<table border=\"1\" class=\"dataframe\">\n",
       "  <thead>\n",
       "    <tr style=\"text-align: right;\">\n",
       "      <th></th>\n",
       "      <th>% null values</th>\n",
       "    </tr>\n",
       "  </thead>\n",
       "  <tbody>\n",
       "    <tr>\n",
       "      <th>id</th>\n",
       "      <td>0.0</td>\n",
       "    </tr>\n",
       "    <tr>\n",
       "      <th>smoke</th>\n",
       "      <td>0.0</td>\n",
       "    </tr>\n",
       "    <tr>\n",
       "      <th>bp_category</th>\n",
       "      <td>0.0</td>\n",
       "    </tr>\n",
       "    <tr>\n",
       "      <th>bmi</th>\n",
       "      <td>0.0</td>\n",
       "    </tr>\n",
       "    <tr>\n",
       "      <th>age_years</th>\n",
       "      <td>0.0</td>\n",
       "    </tr>\n",
       "    <tr>\n",
       "      <th>cardio</th>\n",
       "      <td>0.0</td>\n",
       "    </tr>\n",
       "    <tr>\n",
       "      <th>active</th>\n",
       "      <td>0.0</td>\n",
       "    </tr>\n",
       "    <tr>\n",
       "      <th>alco</th>\n",
       "      <td>0.0</td>\n",
       "    </tr>\n",
       "    <tr>\n",
       "      <th>gluc</th>\n",
       "      <td>0.0</td>\n",
       "    </tr>\n",
       "    <tr>\n",
       "      <th>age</th>\n",
       "      <td>0.0</td>\n",
       "    </tr>\n",
       "    <tr>\n",
       "      <th>cholesterol</th>\n",
       "      <td>0.0</td>\n",
       "    </tr>\n",
       "    <tr>\n",
       "      <th>ap_lo</th>\n",
       "      <td>0.0</td>\n",
       "    </tr>\n",
       "    <tr>\n",
       "      <th>ap_hi</th>\n",
       "      <td>0.0</td>\n",
       "    </tr>\n",
       "    <tr>\n",
       "      <th>weight</th>\n",
       "      <td>0.0</td>\n",
       "    </tr>\n",
       "    <tr>\n",
       "      <th>height</th>\n",
       "      <td>0.0</td>\n",
       "    </tr>\n",
       "    <tr>\n",
       "      <th>gender</th>\n",
       "      <td>0.0</td>\n",
       "    </tr>\n",
       "    <tr>\n",
       "      <th>bp_category_encoded</th>\n",
       "      <td>0.0</td>\n",
       "    </tr>\n",
       "  </tbody>\n",
       "</table>\n",
       "</div>"
      ],
      "text/plain": [
       "                     % null values\n",
       "id                             0.0\n",
       "smoke                          0.0\n",
       "bp_category                    0.0\n",
       "bmi                            0.0\n",
       "age_years                      0.0\n",
       "cardio                         0.0\n",
       "active                         0.0\n",
       "alco                           0.0\n",
       "gluc                           0.0\n",
       "age                            0.0\n",
       "cholesterol                    0.0\n",
       "ap_lo                          0.0\n",
       "ap_hi                          0.0\n",
       "weight                         0.0\n",
       "height                         0.0\n",
       "gender                         0.0\n",
       "bp_category_encoded            0.0"
      ]
     },
     "execution_count": 8,
     "metadata": {},
     "output_type": "execute_result"
    }
   ],
   "source": [
    "pd.DataFrame(df.isnull().mean()*100, columns=['% null values']).sort_values(by='% null values', ascending=False)"
   ]
  },
  {
   "cell_type": "code",
   "execution_count": 9,
   "id": "fb69146e-90d2-471a-8207-386be4a48dd3",
   "metadata": {},
   "outputs": [
    {
     "data": {
      "text/plain": [
       "0"
      ]
     },
     "execution_count": 9,
     "metadata": {},
     "output_type": "execute_result"
    }
   ],
   "source": [
    "df.duplicated().sum()"
   ]
  },
  {
   "cell_type": "code",
   "execution_count": 10,
   "id": "7bfc903a-2bd2-4335-a5cc-9a305b0b685b",
   "metadata": {},
   "outputs": [],
   "source": [
    "# drop for unnecessary columns\n",
    "df.drop(['id','age'], axis= 1, inplace = True)"
   ]
  },
  {
   "cell_type": "code",
   "execution_count": 11,
   "id": "c2c9c545-8c94-4951-bf53-b1cbbe31761e",
   "metadata": {},
   "outputs": [],
   "source": [
    "df['height'] = df['height'].astype(float)\n",
    "df['weight'] = df['weight'].astype(float)\n",
    "df['ap_hi'] = df['ap_hi'].astype(int)\n",
    "df['ap_lo'] = df['ap_lo'].astype(int)\n",
    "df['age_years'] = df['age_years'].astype(int)\n",
    "df['bmi'] = df['bmi'].astype(float)\n"
   ]
  },
  {
   "cell_type": "code",
   "execution_count": 12,
   "id": "f6775c08-87d5-41ef-ab3e-f25afb27adbd",
   "metadata": {},
   "outputs": [
    {
     "data": {
      "text/html": [
       "<div>\n",
       "<style scoped>\n",
       "    .dataframe tbody tr th:only-of-type {\n",
       "        vertical-align: middle;\n",
       "    }\n",
       "\n",
       "    .dataframe tbody tr th {\n",
       "        vertical-align: top;\n",
       "    }\n",
       "\n",
       "    .dataframe thead th {\n",
       "        text-align: right;\n",
       "    }\n",
       "</style>\n",
       "<table border=\"1\" class=\"dataframe\">\n",
       "  <thead>\n",
       "    <tr style=\"text-align: right;\">\n",
       "      <th></th>\n",
       "      <th>height</th>\n",
       "      <th>weight</th>\n",
       "      <th>ap_hi</th>\n",
       "      <th>ap_lo</th>\n",
       "      <th>age_years</th>\n",
       "      <th>bmi</th>\n",
       "    </tr>\n",
       "  </thead>\n",
       "  <tbody>\n",
       "    <tr>\n",
       "      <th>count</th>\n",
       "      <td>68205.00</td>\n",
       "      <td>68205.00</td>\n",
       "      <td>68205.00</td>\n",
       "      <td>68205.00</td>\n",
       "      <td>68205.00</td>\n",
       "      <td>68205.00</td>\n",
       "    </tr>\n",
       "    <tr>\n",
       "      <th>mean</th>\n",
       "      <td>164.37</td>\n",
       "      <td>74.10</td>\n",
       "      <td>126.43</td>\n",
       "      <td>81.26</td>\n",
       "      <td>52.82</td>\n",
       "      <td>27.51</td>\n",
       "    </tr>\n",
       "    <tr>\n",
       "      <th>std</th>\n",
       "      <td>8.18</td>\n",
       "      <td>14.29</td>\n",
       "      <td>15.96</td>\n",
       "      <td>9.14</td>\n",
       "      <td>6.77</td>\n",
       "      <td>6.03</td>\n",
       "    </tr>\n",
       "    <tr>\n",
       "      <th>min</th>\n",
       "      <td>55.00</td>\n",
       "      <td>11.00</td>\n",
       "      <td>90.00</td>\n",
       "      <td>60.00</td>\n",
       "      <td>29.00</td>\n",
       "      <td>3.47</td>\n",
       "    </tr>\n",
       "    <tr>\n",
       "      <th>25%</th>\n",
       "      <td>159.00</td>\n",
       "      <td>65.00</td>\n",
       "      <td>120.00</td>\n",
       "      <td>80.00</td>\n",
       "      <td>48.00</td>\n",
       "      <td>23.88</td>\n",
       "    </tr>\n",
       "    <tr>\n",
       "      <th>50%</th>\n",
       "      <td>165.00</td>\n",
       "      <td>72.00</td>\n",
       "      <td>120.00</td>\n",
       "      <td>80.00</td>\n",
       "      <td>53.00</td>\n",
       "      <td>26.35</td>\n",
       "    </tr>\n",
       "    <tr>\n",
       "      <th>75%</th>\n",
       "      <td>170.00</td>\n",
       "      <td>82.00</td>\n",
       "      <td>140.00</td>\n",
       "      <td>90.00</td>\n",
       "      <td>58.00</td>\n",
       "      <td>30.12</td>\n",
       "    </tr>\n",
       "    <tr>\n",
       "      <th>max</th>\n",
       "      <td>250.00</td>\n",
       "      <td>200.00</td>\n",
       "      <td>180.00</td>\n",
       "      <td>120.00</td>\n",
       "      <td>64.00</td>\n",
       "      <td>298.67</td>\n",
       "    </tr>\n",
       "  </tbody>\n",
       "</table>\n",
       "</div>"
      ],
      "text/plain": [
       "        height   weight    ap_hi    ap_lo  age_years      bmi\n",
       "count 68205.00 68205.00 68205.00 68205.00   68205.00 68205.00\n",
       "mean    164.37    74.10   126.43    81.26      52.82    27.51\n",
       "std       8.18    14.29    15.96     9.14       6.77     6.03\n",
       "min      55.00    11.00    90.00    60.00      29.00     3.47\n",
       "25%     159.00    65.00   120.00    80.00      48.00    23.88\n",
       "50%     165.00    72.00   120.00    80.00      53.00    26.35\n",
       "75%     170.00    82.00   140.00    90.00      58.00    30.12\n",
       "max     250.00   200.00   180.00   120.00      64.00   298.67"
      ]
     },
     "execution_count": 12,
     "metadata": {},
     "output_type": "execute_result"
    }
   ],
   "source": [
    "pd.options.display.float_format = '{:.2f}'.format\n",
    "df.describe()"
   ]
  },
  {
   "cell_type": "code",
   "execution_count": 13,
   "id": "899d73a3-66f4-43fc-bd77-03cd2c4a0734",
   "metadata": {
    "scrolled": true
   },
   "outputs": [
    {
     "data": {
      "text/html": [
       "<div>\n",
       "<style scoped>\n",
       "    .dataframe tbody tr th:only-of-type {\n",
       "        vertical-align: middle;\n",
       "    }\n",
       "\n",
       "    .dataframe tbody tr th {\n",
       "        vertical-align: top;\n",
       "    }\n",
       "\n",
       "    .dataframe thead th {\n",
       "        text-align: right;\n",
       "    }\n",
       "</style>\n",
       "<table border=\"1\" class=\"dataframe\">\n",
       "  <thead>\n",
       "    <tr style=\"text-align: right;\">\n",
       "      <th></th>\n",
       "      <th>gender</th>\n",
       "      <th>cholesterol</th>\n",
       "      <th>gluc</th>\n",
       "      <th>smoke</th>\n",
       "      <th>alco</th>\n",
       "      <th>active</th>\n",
       "      <th>cardio</th>\n",
       "      <th>bp_category</th>\n",
       "      <th>bp_category_encoded</th>\n",
       "    </tr>\n",
       "  </thead>\n",
       "  <tbody>\n",
       "    <tr>\n",
       "      <th>count</th>\n",
       "      <td>68205</td>\n",
       "      <td>68205</td>\n",
       "      <td>68205</td>\n",
       "      <td>68205</td>\n",
       "      <td>68205</td>\n",
       "      <td>68205</td>\n",
       "      <td>68205</td>\n",
       "      <td>68205</td>\n",
       "      <td>68205</td>\n",
       "    </tr>\n",
       "    <tr>\n",
       "      <th>unique</th>\n",
       "      <td>2</td>\n",
       "      <td>3</td>\n",
       "      <td>3</td>\n",
       "      <td>2</td>\n",
       "      <td>2</td>\n",
       "      <td>2</td>\n",
       "      <td>2</td>\n",
       "      <td>4</td>\n",
       "      <td>4</td>\n",
       "    </tr>\n",
       "    <tr>\n",
       "      <th>top</th>\n",
       "      <td>1</td>\n",
       "      <td>1</td>\n",
       "      <td>1</td>\n",
       "      <td>0</td>\n",
       "      <td>0</td>\n",
       "      <td>1</td>\n",
       "      <td>0</td>\n",
       "      <td>Hypertension Stage 1</td>\n",
       "      <td>Hypertension Stage 1</td>\n",
       "    </tr>\n",
       "    <tr>\n",
       "      <th>freq</th>\n",
       "      <td>44427</td>\n",
       "      <td>51222</td>\n",
       "      <td>58027</td>\n",
       "      <td>62226</td>\n",
       "      <td>64581</td>\n",
       "      <td>54806</td>\n",
       "      <td>34533</td>\n",
       "      <td>39750</td>\n",
       "      <td>39750</td>\n",
       "    </tr>\n",
       "  </tbody>\n",
       "</table>\n",
       "</div>"
      ],
      "text/plain": [
       "       gender cholesterol   gluc  smoke   alco active cardio  \\\n",
       "count   68205       68205  68205  68205  68205  68205  68205   \n",
       "unique      2           3      3      2      2      2      2   \n",
       "top         1           1      1      0      0      1      0   \n",
       "freq    44427       51222  58027  62226  64581  54806  34533   \n",
       "\n",
       "                 bp_category   bp_category_encoded  \n",
       "count                  68205                 68205  \n",
       "unique                     4                     4  \n",
       "top     Hypertension Stage 1  Hypertension Stage 1  \n",
       "freq                   39750                 39750  "
      ]
     },
     "execution_count": 13,
     "metadata": {},
     "output_type": "execute_result"
    }
   ],
   "source": [
    "df.describe(include='object')"
   ]
  },
  {
   "cell_type": "markdown",
   "id": "ebd81f05-1db8-4acc-b613-00fbad2a8c9f",
   "metadata": {},
   "source": [
    "# Data Cleaning"
   ]
  },
  {
   "cell_type": "code",
   "execution_count": 14,
   "id": "7f3b5972-0d82-4edb-a0f0-e984da75dfb1",
   "metadata": {},
   "outputs": [],
   "source": [
    "cols_to_fix = ['gender','cholesterol', 'gluc', 'smoke', 'alco', 'active', 'cardio', 'age_years', 'bmi']\n",
    "for col in cols_to_fix:\n",
    "    df[col] = pd.to_numeric(df[col], errors='coerce')"
   ]
  },
  {
   "cell_type": "code",
   "execution_count": 15,
   "id": "f1584ed3-e07c-4e90-8384-4771179708d8",
   "metadata": {},
   "outputs": [
    {
     "data": {
      "text/plain": [
       "gender           int64\n",
       "cholesterol      int64\n",
       "gluc             int64\n",
       "smoke            int64\n",
       "alco             int64\n",
       "active           int64\n",
       "cardio           int64\n",
       "age_years        int32\n",
       "bmi            float64\n",
       "dtype: object"
      ]
     },
     "execution_count": 15,
     "metadata": {},
     "output_type": "execute_result"
    }
   ],
   "source": [
    "df[cols_to_fix].dtypes"
   ]
  },
  {
   "cell_type": "markdown",
   "id": "483366bf-5c83-445b-9eca-f1b929bf99fd",
   "metadata": {
    "jp-MarkdownHeadingCollapsed": true
   },
   "source": [
    "## Height Feature"
   ]
  },
  {
   "cell_type": "code",
   "execution_count": 16,
   "id": "80910352-223d-4c07-91ad-12e30776d4f6",
   "metadata": {},
   "outputs": [
    {
     "name": "stdout",
     "output_type": "stream",
     "text": [
      "count   68205.00\n",
      "mean      164.37\n",
      "std         8.18\n",
      "min        55.00\n",
      "25%       159.00\n",
      "50%       165.00\n",
      "75%       170.00\n",
      "max       250.00\n",
      "Name: height, dtype: float64\n"
     ]
    }
   ],
   "source": [
    "print(df['height'].describe())"
   ]
  },
  {
   "cell_type": "code",
   "execution_count": 17,
   "id": "b017218f-fe8f-4291-b904-f039af2b4e29",
   "metadata": {},
   "outputs": [
    {
     "data": {
      "image/png": "[encoded data removed]",
      "text/plain": [
       "<Figure size 4000x1000 with 1 Axes>"
      ]
     },
     "metadata": {},
     "output_type": "display_data"
    }
   ],
   "source": [
    "import seaborn as sns\n",
    "import matplotlib.pyplot as plt\n",
    "plt.figure(figsize=(40,10))\n",
    "sns.boxplot(x=df['height'])\n",
    "plt.title('Boxplot of Height')\n",
    "plt.xlabel('Height (cm)')\n",
    "plt.show()"
   ]
  },
  {
   "cell_type": "code",
   "execution_count": 18,
   "id": "88ec41e7-27fd-4527-8892-289299a45153",
   "metadata": {},
   "outputs": [
    {
     "name": "stdout",
     "output_type": "stream",
     "text": [
      "Min height: 55.0\n",
      "Max height: 250.0\n"
     ]
    }
   ],
   "source": [
    "print(\"Min height:\", df['height'].min())\n",
    "print(\"Max height:\", df['height'].max())"
   ]
  },
  {
   "cell_type": "markdown",
   "id": "114d9be3-6edb-47ba-81e9-bdaec3889834",
   "metadata": {},
   "source": [
    "### Replace the erroneous outliers with the median heights"
   ]
  },
  {
   "cell_type": "code",
   "execution_count": 19,
   "id": "fb7227a7-576a-40bc-b908-2db30c31c023",
   "metadata": {},
   "outputs": [],
   "source": [
    "median_height = df[(df['height'] >= 120) & (df['height'] <= 210)]['height'].median()\n",
    "df.loc[(df['height'] < 120) | (df['height'] > 210), 'height'] = median_height"
   ]
  },
  {
   "cell_type": "code",
   "execution_count": 20,
   "id": "732b8fd5-847a-440e-805b-508947f7e2b9",
   "metadata": {},
   "outputs": [
    {
     "data": {
      "image/png": "[encoded data removed]",
      "text/plain": [
       "<Figure size 4000x1000 with 1 Axes>"
      ]
     },
     "metadata": {},
     "output_type": "display_data"
    }
   ],
   "source": [
    "import seaborn as sns\n",
    "import matplotlib.pyplot as plt\n",
    "plt.figure(figsize=(40,10))\n",
    "sns.boxplot(x=df['height'])\n",
    "plt.title('Boxplot of Height')\n",
    "plt.xlabel('Height (cm)')\n",
    "plt.show()"
   ]
  },
  {
   "cell_type": "markdown",
   "id": "2891826e-fdf8-49ed-b3dc-1e27b1353414",
   "metadata": {
    "jp-MarkdownHeadingCollapsed": true
   },
   "source": [
    "## Weight Feature"
   ]
  },
  {
   "cell_type": "code",
   "execution_count": 21,
   "id": "042cdd38-3ee5-445a-86b1-23d91a60906e",
   "metadata": {},
   "outputs": [],
   "source": [
    "df['weight'] = pd.to_numeric(df['weight'], errors='coerce')\n",
    "df = df.dropna(subset=['weight'])"
   ]
  },
  {
   "cell_type": "code",
   "execution_count": 22,
   "id": "60d79127-904d-4a85-a048-87487d56781f",
   "metadata": {},
   "outputs": [
    {
     "name": "stdout",
     "output_type": "stream",
     "text": [
      "Number of Outliers in weight: 6\n"
     ]
    },
    {
     "data": {
      "text/html": [
       "<div>\n",
       "<style scoped>\n",
       "    .dataframe tbody tr th:only-of-type {\n",
       "        vertical-align: middle;\n",
       "    }\n",
       "\n",
       "    .dataframe tbody tr th {\n",
       "        vertical-align: top;\n",
       "    }\n",
       "\n",
       "    .dataframe thead th {\n",
       "        text-align: right;\n",
       "    }\n",
       "</style>\n",
       "<table border=\"1\" class=\"dataframe\">\n",
       "  <thead>\n",
       "    <tr style=\"text-align: right;\">\n",
       "      <th></th>\n",
       "      <th>weight</th>\n",
       "    </tr>\n",
       "  </thead>\n",
       "  <tbody>\n",
       "    <tr>\n",
       "      <th>26119</th>\n",
       "      <td>23.00</td>\n",
       "    </tr>\n",
       "    <tr>\n",
       "      <th>28724</th>\n",
       "      <td>22.00</td>\n",
       "    </tr>\n",
       "    <tr>\n",
       "      <th>32945</th>\n",
       "      <td>11.00</td>\n",
       "    </tr>\n",
       "    <tr>\n",
       "      <th>33391</th>\n",
       "      <td>28.00</td>\n",
       "    </tr>\n",
       "    <tr>\n",
       "      <th>58644</th>\n",
       "      <td>21.00</td>\n",
       "    </tr>\n",
       "    <tr>\n",
       "      <th>59138</th>\n",
       "      <td>29.00</td>\n",
       "    </tr>\n",
       "  </tbody>\n",
       "</table>\n",
       "</div>"
      ],
      "text/plain": [
       "       weight\n",
       "26119   23.00\n",
       "28724   22.00\n",
       "32945   11.00\n",
       "33391   28.00\n",
       "58644   21.00\n",
       "59138   29.00"
      ]
     },
     "metadata": {},
     "output_type": "display_data"
    }
   ],
   "source": [
    "outliers_weight = df[(df['weight'] < 30) | (df['weight'] > 300)]\n",
    "print(f\"Number of Outliers in weight: {len(outliers_weight)}\")\n",
    "display(outliers_weight[['weight']])\n"
   ]
  },
  {
   "cell_type": "code",
   "execution_count": 23,
   "id": "bece5335-2671-4d48-b3c8-b8132b8c14c5",
   "metadata": {},
   "outputs": [],
   "source": [
    "median_weight = df[(df['weight'] > 30)]['weight'].median()\n",
    "df.loc[(df['weight'] < 30), 'weight'] = median_weight"
   ]
  },
  {
   "cell_type": "markdown",
   "id": "36be4100-18d1-4278-b855-4d9a91478754",
   "metadata": {
    "jp-MarkdownHeadingCollapsed": true
   },
   "source": [
    "## Ap_hi & Ap_lo Features"
   ]
  },
  {
   "cell_type": "code",
   "execution_count": 24,
   "id": "4c28db63-f00b-407a-948c-6d71ccf0ba84",
   "metadata": {},
   "outputs": [],
   "source": [
    "df['ap_hi'] = pd.to_numeric(df['ap_hi'], errors='coerce')\n",
    "df = df.dropna(subset=['ap_hi'])\n",
    "df['ap_lo'] = pd.to_numeric(df['ap_lo'], errors='coerce')\n",
    "df = df.dropna(subset=['ap_lo'])"
   ]
  },
  {
   "cell_type": "code",
   "execution_count": 25,
   "id": "1a21a88f-b5ee-44c2-b2f8-525ff224b704",
   "metadata": {},
   "outputs": [
    {
     "data": {
      "text/html": [
       "<div>\n",
       "<style scoped>\n",
       "    .dataframe tbody tr th:only-of-type {\n",
       "        vertical-align: middle;\n",
       "    }\n",
       "\n",
       "    .dataframe tbody tr th {\n",
       "        vertical-align: top;\n",
       "    }\n",
       "\n",
       "    .dataframe thead th {\n",
       "        text-align: right;\n",
       "    }\n",
       "</style>\n",
       "<table border=\"1\" class=\"dataframe\">\n",
       "  <thead>\n",
       "    <tr style=\"text-align: right;\">\n",
       "      <th></th>\n",
       "      <th>gender</th>\n",
       "      <th>height</th>\n",
       "      <th>weight</th>\n",
       "      <th>ap_hi</th>\n",
       "      <th>ap_lo</th>\n",
       "      <th>cholesterol</th>\n",
       "      <th>gluc</th>\n",
       "      <th>smoke</th>\n",
       "      <th>alco</th>\n",
       "      <th>active</th>\n",
       "      <th>cardio</th>\n",
       "      <th>age_years</th>\n",
       "      <th>bmi</th>\n",
       "      <th>bp_category</th>\n",
       "      <th>bp_category_encoded</th>\n",
       "    </tr>\n",
       "  </thead>\n",
       "  <tbody>\n",
       "    <tr>\n",
       "      <th>22303</th>\n",
       "      <td>2</td>\n",
       "      <td>178.00</td>\n",
       "      <td>84.00</td>\n",
       "      <td>95</td>\n",
       "      <td>100</td>\n",
       "      <td>1</td>\n",
       "      <td>1</td>\n",
       "      <td>0</td>\n",
       "      <td>1</td>\n",
       "      <td>0</td>\n",
       "      <td>1</td>\n",
       "      <td>56</td>\n",
       "      <td>26.51</td>\n",
       "      <td>Hypertension Stage 2</td>\n",
       "      <td>Hypertension Stage 2</td>\n",
       "    </tr>\n",
       "    <tr>\n",
       "      <th>45316</th>\n",
       "      <td>2</td>\n",
       "      <td>178.00</td>\n",
       "      <td>92.00</td>\n",
       "      <td>90</td>\n",
       "      <td>100</td>\n",
       "      <td>1</td>\n",
       "      <td>1</td>\n",
       "      <td>1</td>\n",
       "      <td>0</td>\n",
       "      <td>1</td>\n",
       "      <td>0</td>\n",
       "      <td>41</td>\n",
       "      <td>29.04</td>\n",
       "      <td>Hypertension Stage 2</td>\n",
       "      <td>Hypertension Stage 2</td>\n",
       "    </tr>\n",
       "    <tr>\n",
       "      <th>51424</th>\n",
       "      <td>1</td>\n",
       "      <td>164.00</td>\n",
       "      <td>86.00</td>\n",
       "      <td>90</td>\n",
       "      <td>120</td>\n",
       "      <td>1</td>\n",
       "      <td>1</td>\n",
       "      <td>0</td>\n",
       "      <td>1</td>\n",
       "      <td>1</td>\n",
       "      <td>1</td>\n",
       "      <td>57</td>\n",
       "      <td>31.98</td>\n",
       "      <td>Hypertension Stage 2</td>\n",
       "      <td>Hypertension Stage 2</td>\n",
       "    </tr>\n",
       "  </tbody>\n",
       "</table>\n",
       "</div>"
      ],
      "text/plain": [
       "       gender  height  weight  ap_hi  ap_lo  cholesterol  gluc  smoke  alco  \\\n",
       "22303       2  178.00   84.00     95    100            1     1      0     1   \n",
       "45316       2  178.00   92.00     90    100            1     1      1     0   \n",
       "51424       1  164.00   86.00     90    120            1     1      0     1   \n",
       "\n",
       "       active  cardio  age_years   bmi           bp_category  \\\n",
       "22303       0       1         56 26.51  Hypertension Stage 2   \n",
       "45316       1       0         41 29.04  Hypertension Stage 2   \n",
       "51424       1       1         57 31.98  Hypertension Stage 2   \n",
       "\n",
       "        bp_category_encoded  \n",
       "22303  Hypertension Stage 2  \n",
       "45316  Hypertension Stage 2  \n",
       "51424  Hypertension Stage 2  "
      ]
     },
     "execution_count": 25,
     "metadata": {},
     "output_type": "execute_result"
    }
   ],
   "source": [
    "df[(df['ap_hi'] < df['ap_lo']) | (df['ap_hi'] < 50) | (df['ap_lo'] < 30)]"
   ]
  },
  {
   "cell_type": "markdown",
   "id": "c9d63a50-5052-4145-8cd5-5d54553ca66f",
   "metadata": {},
   "source": [
    "### Swap values if it was a flip mistake"
   ]
  },
  {
   "cell_type": "code",
   "execution_count": 26,
   "id": "77553c7a-f2f9-4483-924c-7882e68165c1",
   "metadata": {},
   "outputs": [],
   "source": [
    "df.loc[df['ap_lo'] > df['ap_hi'], ['ap_hi', 'ap_lo']] = df.loc[df['ap_lo'] > df['ap_hi'], ['ap_lo', 'ap_hi']].values"
   ]
  },
  {
   "cell_type": "code",
   "execution_count": 27,
   "id": "321cf5e4-bc81-4b88-97b8-976b4cc32995",
   "metadata": {},
   "outputs": [
    {
     "data": {
      "text/html": [
       "<div>\n",
       "<style scoped>\n",
       "    .dataframe tbody tr th:only-of-type {\n",
       "        vertical-align: middle;\n",
       "    }\n",
       "\n",
       "    .dataframe tbody tr th {\n",
       "        vertical-align: top;\n",
       "    }\n",
       "\n",
       "    .dataframe thead th {\n",
       "        text-align: right;\n",
       "    }\n",
       "</style>\n",
       "<table border=\"1\" class=\"dataframe\">\n",
       "  <thead>\n",
       "    <tr style=\"text-align: right;\">\n",
       "      <th></th>\n",
       "      <th>gender</th>\n",
       "      <th>height</th>\n",
       "      <th>weight</th>\n",
       "      <th>ap_hi</th>\n",
       "      <th>ap_lo</th>\n",
       "      <th>cholesterol</th>\n",
       "      <th>gluc</th>\n",
       "      <th>smoke</th>\n",
       "      <th>alco</th>\n",
       "      <th>active</th>\n",
       "      <th>cardio</th>\n",
       "      <th>age_years</th>\n",
       "      <th>bmi</th>\n",
       "      <th>bp_category</th>\n",
       "      <th>bp_category_encoded</th>\n",
       "    </tr>\n",
       "  </thead>\n",
       "  <tbody>\n",
       "  </tbody>\n",
       "</table>\n",
       "</div>"
      ],
      "text/plain": [
       "Empty DataFrame\n",
       "Columns: [gender, height, weight, ap_hi, ap_lo, cholesterol, gluc, smoke, alco, active, cardio, age_years, bmi, bp_category, bp_category_encoded]\n",
       "Index: []"
      ]
     },
     "execution_count": 27,
     "metadata": {},
     "output_type": "execute_result"
    }
   ],
   "source": [
    "df[(df['ap_hi'] < df['ap_lo']) | (df['ap_hi'] < 50) | (df['ap_lo'] < 30)]"
   ]
  },
  {
   "cell_type": "markdown",
   "id": "6321a588-1e75-420d-946f-d0f450e75bc7",
   "metadata": {
    "jp-MarkdownHeadingCollapsed": true
   },
   "source": [
    "## bp_category and bp_category_encoded Features"
   ]
  },
  {
   "cell_type": "code",
   "execution_count": 28,
   "id": "3cd87e68-9cea-4ee5-b1a7-1027758218a0",
   "metadata": {},
   "outputs": [
    {
     "name": "stdout",
     "output_type": "stream",
     "text": [
      "Unique category-to-code mappings:\n",
      "             bp_category   bp_category_encoded\n",
      "0   Hypertension Stage 1  Hypertension Stage 1\n",
      "1   Hypertension Stage 2  Hypertension Stage 2\n",
      "4                 Normal                Normal\n",
      "19              Elevated              Elevated\n"
     ]
    }
   ],
   "source": [
    "# mapping from category to encoded value\n",
    "category_to_code = df[['bp_category', 'bp_category_encoded']].drop_duplicates()\n",
    "# Check how many unique mappings exist\n",
    "print(\"Unique category-to-code mappings:\")\n",
    "print(category_to_code)\n"
   ]
  },
  {
   "cell_type": "code",
   "execution_count": 29,
   "id": "10c80fcd-0547-4f75-9f67-e46a3e080a71",
   "metadata": {},
   "outputs": [
    {
     "name": "stdout",
     "output_type": "stream",
     "text": [
      "\n",
      "Check if each category has one unique code:\n",
      "bp_category\n",
      "Elevated                1\n",
      "Hypertension Stage 1    1\n",
      "Hypertension Stage 2    1\n",
      "Normal                  1\n",
      "Name: bp_category_encoded, dtype: int64\n",
      "\n",
      "✅ All bp_category values are consistently encoded in bp_category_encoded.\n"
     ]
    }
   ],
   "source": [
    "# Now, verify that each bp_category always maps to the same encoded value\n",
    "mapping_valid = df.groupby('bp_category')['bp_category_encoded'].nunique()\n",
    "# If all values are 1, it means every category maps to exactly one code\n",
    "print(\"\\nCheck if each category has one unique code:\")\n",
    "print(mapping_valid)\n",
    "if all(mapping_valid == 1):\n",
    "    print(\"\\n✅ All bp_category values are consistently encoded in bp_category_encoded.\")\n",
    "else:\n",
    "    print(\"\\n❌ There are inconsistencies in the encoding.\")"
   ]
  },
  {
   "cell_type": "code",
   "execution_count": 30,
   "id": "beadf5b1-4dec-445c-8b54-d157640ac853",
   "metadata": {},
   "outputs": [
    {
     "name": "stdout",
     "output_type": "stream",
     "text": [
      "Number of appearans of each categoy at bp_category:\n",
      "bp_category\n",
      "Hypertension Stage 1    39750\n",
      "Hypertension Stage 2    15937\n",
      "Normal                   9417\n",
      "Elevated                 3101\n",
      "Name: count, dtype: int64\n",
      "\n",
      "The most repeated Catigory: Hypertension Stage 1\n",
      "Hypertension Stage 1 '%' from the total data: 58.28%\n"
     ]
    }
   ],
   "source": [
    "bp_counts = df['bp_category'].value_counts()\n",
    "print(\"Number of appearans of each categoy at bp_category:\")\n",
    "print(bp_counts)\n",
    "print(\"\\nThe most repeated Catigory:\", bp_counts.idxmax())\n",
    "print(bp_counts.idxmax(), \"'%' from the total data: {:.2f}%\".format((bp_counts.max() / len(df)) * 100))"
   ]
  },
  {
   "cell_type": "code",
   "execution_count": 31,
   "id": "8bd1a68e-10a8-4a12-9803-8ed88b6b1191",
   "metadata": {},
   "outputs": [
    {
     "data": {
      "text/html": [
       "<div>\n",
       "<style scoped>\n",
       "    .dataframe tbody tr th:only-of-type {\n",
       "        vertical-align: middle;\n",
       "    }\n",
       "\n",
       "    .dataframe tbody tr th {\n",
       "        vertical-align: top;\n",
       "    }\n",
       "\n",
       "    .dataframe thead th {\n",
       "        text-align: right;\n",
       "    }\n",
       "</style>\n",
       "<table border=\"1\" class=\"dataframe\">\n",
       "  <thead>\n",
       "    <tr style=\"text-align: right;\">\n",
       "      <th></th>\n",
       "      <th>bp_category</th>\n",
       "      <th>bp_category_encoded</th>\n",
       "    </tr>\n",
       "  </thead>\n",
       "  <tbody>\n",
       "    <tr>\n",
       "      <th>count</th>\n",
       "      <td>68205</td>\n",
       "      <td>68205</td>\n",
       "    </tr>\n",
       "    <tr>\n",
       "      <th>unique</th>\n",
       "      <td>4</td>\n",
       "      <td>4</td>\n",
       "    </tr>\n",
       "    <tr>\n",
       "      <th>top</th>\n",
       "      <td>Hypertension Stage 1</td>\n",
       "      <td>Hypertension Stage 1</td>\n",
       "    </tr>\n",
       "    <tr>\n",
       "      <th>freq</th>\n",
       "      <td>39750</td>\n",
       "      <td>39750</td>\n",
       "    </tr>\n",
       "  </tbody>\n",
       "</table>\n",
       "</div>"
      ],
      "text/plain": [
       "                 bp_category   bp_category_encoded\n",
       "count                  68205                 68205\n",
       "unique                     4                     4\n",
       "top     Hypertension Stage 1  Hypertension Stage 1\n",
       "freq                   39750                 39750"
      ]
     },
     "execution_count": 31,
     "metadata": {},
     "output_type": "execute_result"
    }
   ],
   "source": [
    "df.describe(include='object')"
   ]
  },
  {
   "cell_type": "code",
   "execution_count": 32,
   "id": "86e786de-ca3d-4477-b195-397bfbc4a020",
   "metadata": {},
   "outputs": [],
   "source": [
    "df.drop(['bp_category_encoded'], axis= 1, inplace = True)"
   ]
  },
  {
   "cell_type": "markdown",
   "id": "9f1bdc22-fbfc-4207-bb9f-5087a0a4309b",
   "metadata": {
    "jp-MarkdownHeadingCollapsed": true
   },
   "source": [
    "# Feature engineering"
   ]
  },
  {
   "cell_type": "code",
   "execution_count": 33,
   "id": "c30bd977-dd04-4b7d-97ba-0d9ecdb2b70f",
   "metadata": {},
   "outputs": [],
   "source": [
    "# Pulse Pressure\n",
    "df['pulse_pressure'] = df['ap_hi'] - df['ap_lo']"
   ]
  },
  {
   "cell_type": "code",
   "execution_count": 34,
   "id": "84cf10dc-fff0-4a7a-a44c-0fbf2f5575b4",
   "metadata": {},
   "outputs": [],
   "source": [
    "# Obesity\n",
    "df['is_obese'] = (df['bmi'] >= 30).astype(int)"
   ]
  },
  {
   "cell_type": "code",
   "execution_count": 35,
   "id": "a9ec2a49-f879-483a-8aed-2625eff3fb8c",
   "metadata": {},
   "outputs": [],
   "source": [
    "# lifestyle_score\n",
    "df['lifestyle_score'] = df['smoke'] + df['alco'] + (1 - df['active'])\n"
   ]
  },
  {
   "cell_type": "code",
   "execution_count": 36,
   "id": "88448053-888a-4775-ae4d-51b129851c6a",
   "metadata": {},
   "outputs": [],
   "source": [
    "def bmi_category(bmi):\n",
    "    if bmi < 18.5:\n",
    "        return 'Underweight'\n",
    "    elif 18.5 <= bmi < 25:\n",
    "        return 'Normal'\n",
    "    elif 25 <= bmi < 30:\n",
    "        return 'Overweight'\n",
    "    else:\n",
    "        return 'Obese'\n",
    "df['bmi_category'] = df['bmi'].apply(bmi_category)"
   ]
  },
  {
   "cell_type": "code",
   "execution_count": 37,
   "id": "4e3170a7-9c94-4de3-8083-7aa50a521140",
   "metadata": {},
   "outputs": [
    {
     "data": {
      "text/html": [
       "<div>\n",
       "<style scoped>\n",
       "    .dataframe tbody tr th:only-of-type {\n",
       "        vertical-align: middle;\n",
       "    }\n",
       "\n",
       "    .dataframe tbody tr th {\n",
       "        vertical-align: top;\n",
       "    }\n",
       "\n",
       "    .dataframe thead th {\n",
       "        text-align: right;\n",
       "    }\n",
       "</style>\n",
       "<table border=\"1\" class=\"dataframe\">\n",
       "  <thead>\n",
       "    <tr style=\"text-align: right;\">\n",
       "      <th></th>\n",
       "      <th>gender</th>\n",
       "      <th>height</th>\n",
       "      <th>weight</th>\n",
       "      <th>ap_hi</th>\n",
       "      <th>ap_lo</th>\n",
       "      <th>cholesterol</th>\n",
       "      <th>gluc</th>\n",
       "      <th>smoke</th>\n",
       "      <th>alco</th>\n",
       "      <th>active</th>\n",
       "      <th>cardio</th>\n",
       "      <th>age_years</th>\n",
       "      <th>bmi</th>\n",
       "      <th>bp_category</th>\n",
       "      <th>pulse_pressure</th>\n",
       "      <th>is_obese</th>\n",
       "      <th>lifestyle_score</th>\n",
       "      <th>bmi_category</th>\n",
       "    </tr>\n",
       "  </thead>\n",
       "  <tbody>\n",
       "    <tr>\n",
       "      <th>0</th>\n",
       "      <td>2</td>\n",
       "      <td>168.00</td>\n",
       "      <td>62.00</td>\n",
       "      <td>110</td>\n",
       "      <td>80</td>\n",
       "      <td>1</td>\n",
       "      <td>1</td>\n",
       "      <td>0</td>\n",
       "      <td>0</td>\n",
       "      <td>1</td>\n",
       "      <td>0</td>\n",
       "      <td>50</td>\n",
       "      <td>21.97</td>\n",
       "      <td>Hypertension Stage 1</td>\n",
       "      <td>30</td>\n",
       "      <td>0</td>\n",
       "      <td>0</td>\n",
       "      <td>Normal</td>\n",
       "    </tr>\n",
       "    <tr>\n",
       "      <th>1</th>\n",
       "      <td>1</td>\n",
       "      <td>156.00</td>\n",
       "      <td>85.00</td>\n",
       "      <td>140</td>\n",
       "      <td>90</td>\n",
       "      <td>3</td>\n",
       "      <td>1</td>\n",
       "      <td>0</td>\n",
       "      <td>0</td>\n",
       "      <td>1</td>\n",
       "      <td>1</td>\n",
       "      <td>55</td>\n",
       "      <td>34.93</td>\n",
       "      <td>Hypertension Stage 2</td>\n",
       "      <td>50</td>\n",
       "      <td>1</td>\n",
       "      <td>0</td>\n",
       "      <td>Obese</td>\n",
       "    </tr>\n",
       "    <tr>\n",
       "      <th>2</th>\n",
       "      <td>1</td>\n",
       "      <td>165.00</td>\n",
       "      <td>64.00</td>\n",
       "      <td>130</td>\n",
       "      <td>70</td>\n",
       "      <td>3</td>\n",
       "      <td>1</td>\n",
       "      <td>0</td>\n",
       "      <td>0</td>\n",
       "      <td>0</td>\n",
       "      <td>1</td>\n",
       "      <td>51</td>\n",
       "      <td>23.51</td>\n",
       "      <td>Hypertension Stage 1</td>\n",
       "      <td>60</td>\n",
       "      <td>0</td>\n",
       "      <td>1</td>\n",
       "      <td>Normal</td>\n",
       "    </tr>\n",
       "    <tr>\n",
       "      <th>3</th>\n",
       "      <td>2</td>\n",
       "      <td>169.00</td>\n",
       "      <td>82.00</td>\n",
       "      <td>150</td>\n",
       "      <td>100</td>\n",
       "      <td>1</td>\n",
       "      <td>1</td>\n",
       "      <td>0</td>\n",
       "      <td>0</td>\n",
       "      <td>1</td>\n",
       "      <td>1</td>\n",
       "      <td>48</td>\n",
       "      <td>28.71</td>\n",
       "      <td>Hypertension Stage 2</td>\n",
       "      <td>50</td>\n",
       "      <td>0</td>\n",
       "      <td>0</td>\n",
       "      <td>Overweight</td>\n",
       "    </tr>\n",
       "    <tr>\n",
       "      <th>4</th>\n",
       "      <td>1</td>\n",
       "      <td>156.00</td>\n",
       "      <td>56.00</td>\n",
       "      <td>100</td>\n",
       "      <td>60</td>\n",
       "      <td>1</td>\n",
       "      <td>1</td>\n",
       "      <td>0</td>\n",
       "      <td>0</td>\n",
       "      <td>0</td>\n",
       "      <td>0</td>\n",
       "      <td>47</td>\n",
       "      <td>23.01</td>\n",
       "      <td>Normal</td>\n",
       "      <td>40</td>\n",
       "      <td>0</td>\n",
       "      <td>1</td>\n",
       "      <td>Normal</td>\n",
       "    </tr>\n",
       "  </tbody>\n",
       "</table>\n",
       "</div>"
      ],
      "text/plain": [
       "   gender  height  weight  ap_hi  ap_lo  cholesterol  gluc  smoke  alco  \\\n",
       "0       2  168.00   62.00    110     80            1     1      0     0   \n",
       "1       1  156.00   85.00    140     90            3     1      0     0   \n",
       "2       1  165.00   64.00    130     70            3     1      0     0   \n",
       "3       2  169.00   82.00    150    100            1     1      0     0   \n",
       "4       1  156.00   56.00    100     60            1     1      0     0   \n",
       "\n",
       "   active  cardio  age_years   bmi           bp_category  pulse_pressure  \\\n",
       "0       1       0         50 21.97  Hypertension Stage 1              30   \n",
       "1       1       1         55 34.93  Hypertension Stage 2              50   \n",
       "2       0       1         51 23.51  Hypertension Stage 1              60   \n",
       "3       1       1         48 28.71  Hypertension Stage 2              50   \n",
       "4       0       0         47 23.01                Normal              40   \n",
       "\n",
       "   is_obese  lifestyle_score bmi_category  \n",
       "0         0                0       Normal  \n",
       "1         1                0        Obese  \n",
       "2         0                1       Normal  \n",
       "3         0                0   Overweight  \n",
       "4         0                1       Normal  "
      ]
     },
     "execution_count": 37,
     "metadata": {},
     "output_type": "execute_result"
    }
   ],
   "source": [
    "df.head()"
   ]
  },
  {
   "cell_type": "markdown",
   "id": "0409d20d-7eec-4818-99b2-34be409e7779",
   "metadata": {
    "jp-MarkdownHeadingCollapsed": true
   },
   "source": [
    "# Saving Of Data"
   ]
  },
  {
   "cell_type": "code",
   "execution_count": 38,
   "id": "79ba3cde-e0ef-49e8-8980-c25a946a39bf",
   "metadata": {},
   "outputs": [],
   "source": [
    "df.to_csv('cleaned_data.csv', index=False)"
   ]
  }
 ],
 "metadata": {
  "kernelspec": {
   "display_name": "base",
   "language": "python",
   "name": "python3"
  },
  "language_info": {
   "codemirror_mode": {
    "name": "ipython",
    "version": 3
   },
   "file_extension": ".py",
   "mimetype": "text/x-python",
   "name": "python",
   "nbconvert_exporter": "python",
   "pygments_lexer": "ipython3",
   "version": "3.12.7"
  }
 },
 "nbformat": 4,
 "nbformat_minor": 5
}
